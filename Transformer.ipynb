{
 "cells": [
  {
   "cell_type": "code",
   "execution_count": 24,
   "metadata": {},
   "outputs": [],
   "source": [
    "import numpy as np\n",
    "import yfinance as yf\n",
    "import pandas as pd\n",
    "import seaborn as sns\n",
    "import matplotlib.pyplot as plt\n",
    "import prophet as pt\n",
    "import datetime as dt\n",
    "from sklearn.metrics import mean_squared_error, mean_absolute_error\n",
    "sns.set_style('whitegrid')\n",
    "plt.style.use(\"default\")\n",
    "%matplotlib inline\n",
    "from pandas_datareader.data import DataReader\n",
    "from pandas_datareader import data as pdr\n",
    "yf.pdr_override()\n",
    "#from tensorflow import keras\n",
    "#from keras.layers import Dense\n",
    "#from keras.models import Sequential, load_model\n",
    "from sklearn import preprocessing\n",
    "from sklearn import metrics \n",
    "#import tensorflow as tf\n",
    "#import joblib\n",
    "\n",
    "import torch\n",
    "import torch.nn as nn\n",
    "import torch.optim as optim\n",
    "from torch.utils.data import Dataset, DataLoader\n",
    "\n",
    "from statsmodels.tsa.seasonal import seasonal_decompose\n",
    "from statsmodels.tsa.arima_model import ARIMA\n",
    "from pmdarima.arima import auto_arima\n",
    "from statsmodels.tsa.stattools import adfuller,acf, pacf\n",
    "from statsmodels.tsa.arima_model import ARIMA\n",
    "import statsmodels.api as sm\n",
    "from pylab import rcParams\n",
    "from vnstock import *"
   ]
  },
  {
   "cell_type": "code",
   "execution_count": 2,
   "metadata": {},
   "outputs": [
    {
     "name": "stdout",
     "output_type": "stream",
     "text": [
      "[*********************100%%**********************]  1 of 1 completed\n"
     ]
    }
   ],
   "source": [
    "companyName = 'AAPL'\n",
    "start_date = \"2022-12-01\" \n",
    "end_date = \"2023-12-01\" \n",
    "df = yf.download(companyName, start_date, end_date)\n",
    "close = df[\"Close\"].tolist()"
   ]
  },
  {
   "cell_type": "code",
   "execution_count": 4,
   "metadata": {},
   "outputs": [
    {
     "data": {
      "text/html": [
       "<div>\n",
       "<style scoped>\n",
       "    .dataframe tbody tr th:only-of-type {\n",
       "        vertical-align: middle;\n",
       "    }\n",
       "\n",
       "    .dataframe tbody tr th {\n",
       "        vertical-align: top;\n",
       "    }\n",
       "\n",
       "    .dataframe thead th {\n",
       "        text-align: right;\n",
       "    }\n",
       "</style>\n",
       "<table border=\"1\" class=\"dataframe\">\n",
       "  <thead>\n",
       "    <tr style=\"text-align: right;\">\n",
       "      <th></th>\n",
       "      <th>Open</th>\n",
       "      <th>High</th>\n",
       "      <th>Low</th>\n",
       "      <th>Close</th>\n",
       "      <th>Adj Close</th>\n",
       "      <th>Volume</th>\n",
       "    </tr>\n",
       "  </thead>\n",
       "  <tbody>\n",
       "    <tr>\n",
       "      <th>count</th>\n",
       "      <td>251.000000</td>\n",
       "      <td>251.000000</td>\n",
       "      <td>251.000000</td>\n",
       "      <td>251.000000</td>\n",
       "      <td>251.000000</td>\n",
       "      <td>2.510000e+02</td>\n",
       "    </tr>\n",
       "    <tr>\n",
       "      <th>mean</th>\n",
       "      <td>167.702869</td>\n",
       "      <td>169.329442</td>\n",
       "      <td>166.332709</td>\n",
       "      <td>167.914303</td>\n",
       "      <td>167.423999</td>\n",
       "      <td>6.142316e+07</td>\n",
       "    </tr>\n",
       "    <tr>\n",
       "      <th>std</th>\n",
       "      <td>18.571844</td>\n",
       "      <td>18.399008</td>\n",
       "      <td>18.728641</td>\n",
       "      <td>18.553242</td>\n",
       "      <td>18.709766</td>\n",
       "      <td>1.854627e+07</td>\n",
       "    </tr>\n",
       "    <tr>\n",
       "      <th>min</th>\n",
       "      <td>126.010002</td>\n",
       "      <td>127.769997</td>\n",
       "      <td>124.169998</td>\n",
       "      <td>125.019997</td>\n",
       "      <td>124.325081</td>\n",
       "      <td>2.404830e+07</td>\n",
       "    </tr>\n",
       "    <tr>\n",
       "      <th>25%</th>\n",
       "      <td>152.460007</td>\n",
       "      <td>154.294998</td>\n",
       "      <td>150.855003</td>\n",
       "      <td>152.930000</td>\n",
       "      <td>152.312157</td>\n",
       "      <td>4.936340e+07</td>\n",
       "    </tr>\n",
       "    <tr>\n",
       "      <th>50%</th>\n",
       "      <td>172.619995</td>\n",
       "      <td>174.029999</td>\n",
       "      <td>171.470001</td>\n",
       "      <td>173.000000</td>\n",
       "      <td>172.772385</td>\n",
       "      <td>5.697620e+07</td>\n",
       "    </tr>\n",
       "    <tr>\n",
       "      <th>75%</th>\n",
       "      <td>181.150002</td>\n",
       "      <td>182.389999</td>\n",
       "      <td>179.004997</td>\n",
       "      <td>180.955002</td>\n",
       "      <td>180.475220</td>\n",
       "      <td>6.878810e+07</td>\n",
       "    </tr>\n",
       "    <tr>\n",
       "      <th>max</th>\n",
       "      <td>196.240005</td>\n",
       "      <td>198.229996</td>\n",
       "      <td>195.279999</td>\n",
       "      <td>196.449997</td>\n",
       "      <td>195.926956</td>\n",
       "      <td>1.601569e+08</td>\n",
       "    </tr>\n",
       "  </tbody>\n",
       "</table>\n",
       "</div>"
      ],
      "text/plain": [
       "             Open        High         Low       Close   Adj Close  \\\n",
       "count  251.000000  251.000000  251.000000  251.000000  251.000000   \n",
       "mean   167.702869  169.329442  166.332709  167.914303  167.423999   \n",
       "std     18.571844   18.399008   18.728641   18.553242   18.709766   \n",
       "min    126.010002  127.769997  124.169998  125.019997  124.325081   \n",
       "25%    152.460007  154.294998  150.855003  152.930000  152.312157   \n",
       "50%    172.619995  174.029999  171.470001  173.000000  172.772385   \n",
       "75%    181.150002  182.389999  179.004997  180.955002  180.475220   \n",
       "max    196.240005  198.229996  195.279999  196.449997  195.926956   \n",
       "\n",
       "             Volume  \n",
       "count  2.510000e+02  \n",
       "mean   6.142316e+07  \n",
       "std    1.854627e+07  \n",
       "min    2.404830e+07  \n",
       "25%    4.936340e+07  \n",
       "50%    5.697620e+07  \n",
       "75%    6.878810e+07  \n",
       "max    1.601569e+08  "
      ]
     },
     "execution_count": 4,
     "metadata": {},
     "output_type": "execute_result"
    }
   ],
   "source": [
    "df.describe()"
   ]
  },
  {
   "cell_type": "code",
   "execution_count": 6,
   "metadata": {},
   "outputs": [],
   "source": [
    "df.reset_index(inplace=True)"
   ]
  },
  {
   "cell_type": "code",
   "execution_count": 9,
   "metadata": {},
   "outputs": [],
   "source": [
    "df = df.rename(columns={'Open': 'open', 'High':'high', 'Low':'low', 'Close':'close', 'Volume':'volume', 'Date':'date'})"
   ]
  },
  {
   "cell_type": "code",
   "execution_count": 10,
   "metadata": {},
   "outputs": [
    {
     "data": {
      "text/html": [
       "<div>\n",
       "<style scoped>\n",
       "    .dataframe tbody tr th:only-of-type {\n",
       "        vertical-align: middle;\n",
       "    }\n",
       "\n",
       "    .dataframe tbody tr th {\n",
       "        vertical-align: top;\n",
       "    }\n",
       "\n",
       "    .dataframe thead th {\n",
       "        text-align: right;\n",
       "    }\n",
       "</style>\n",
       "<table border=\"1\" class=\"dataframe\">\n",
       "  <thead>\n",
       "    <tr style=\"text-align: right;\">\n",
       "      <th></th>\n",
       "      <th>date</th>\n",
       "      <th>open</th>\n",
       "      <th>high</th>\n",
       "      <th>low</th>\n",
       "      <th>close</th>\n",
       "      <th>Adj Close</th>\n",
       "      <th>volume</th>\n",
       "    </tr>\n",
       "  </thead>\n",
       "  <tbody>\n",
       "    <tr>\n",
       "      <th>0</th>\n",
       "      <td>2022-12-01</td>\n",
       "      <td>148.210007</td>\n",
       "      <td>149.130005</td>\n",
       "      <td>146.610001</td>\n",
       "      <td>148.309998</td>\n",
       "      <td>147.485626</td>\n",
       "      <td>71250400</td>\n",
       "    </tr>\n",
       "    <tr>\n",
       "      <th>1</th>\n",
       "      <td>2022-12-02</td>\n",
       "      <td>145.960007</td>\n",
       "      <td>148.000000</td>\n",
       "      <td>145.649994</td>\n",
       "      <td>147.809998</td>\n",
       "      <td>146.988403</td>\n",
       "      <td>65447400</td>\n",
       "    </tr>\n",
       "    <tr>\n",
       "      <th>2</th>\n",
       "      <td>2022-12-05</td>\n",
       "      <td>147.770004</td>\n",
       "      <td>150.919998</td>\n",
       "      <td>145.770004</td>\n",
       "      <td>146.630005</td>\n",
       "      <td>145.814972</td>\n",
       "      <td>68826400</td>\n",
       "    </tr>\n",
       "    <tr>\n",
       "      <th>3</th>\n",
       "      <td>2022-12-06</td>\n",
       "      <td>147.070007</td>\n",
       "      <td>147.300003</td>\n",
       "      <td>141.919998</td>\n",
       "      <td>142.910004</td>\n",
       "      <td>142.115646</td>\n",
       "      <td>64727200</td>\n",
       "    </tr>\n",
       "    <tr>\n",
       "      <th>4</th>\n",
       "      <td>2022-12-07</td>\n",
       "      <td>142.190002</td>\n",
       "      <td>143.369995</td>\n",
       "      <td>140.000000</td>\n",
       "      <td>140.940002</td>\n",
       "      <td>140.156601</td>\n",
       "      <td>69721100</td>\n",
       "    </tr>\n",
       "  </tbody>\n",
       "</table>\n",
       "</div>"
      ],
      "text/plain": [
       "        date        open        high         low       close   Adj Close  \\\n",
       "0 2022-12-01  148.210007  149.130005  146.610001  148.309998  147.485626   \n",
       "1 2022-12-02  145.960007  148.000000  145.649994  147.809998  146.988403   \n",
       "2 2022-12-05  147.770004  150.919998  145.770004  146.630005  145.814972   \n",
       "3 2022-12-06  147.070007  147.300003  141.919998  142.910004  142.115646   \n",
       "4 2022-12-07  142.190002  143.369995  140.000000  140.940002  140.156601   \n",
       "\n",
       "     volume  \n",
       "0  71250400  \n",
       "1  65447400  \n",
       "2  68826400  \n",
       "3  64727200  \n",
       "4  69721100  "
      ]
     },
     "execution_count": 10,
     "metadata": {},
     "output_type": "execute_result"
    }
   ],
   "source": [
    "df.head()"
   ]
  },
  {
   "cell_type": "code",
   "execution_count": 13,
   "metadata": {},
   "outputs": [],
   "source": [
    "# Normalaze Data For Create Trin and Test with new dataframe with only the 'Close' column \n",
    "scaler = preprocessing.MinMaxScaler(feature_range=(0,1))\n",
    "# fit scaler on only one column('close')\n",
    "scaled = scaler.fit_transform(df.filter(['close'])) \n",
    "# now have a scaled dataframe with 'colose column'\n",
    "df2=pd.DataFrame(scaled, columns=['close'])"
   ]
  },
  {
   "cell_type": "code",
   "execution_count": 15,
   "metadata": {},
   "outputs": [
    {
     "name": "stdout",
     "output_type": "stream",
     "text": [
      "      close\n",
      "0  0.326053\n",
      "1  0.319054\n",
      "2  0.302534\n",
      "3  0.250455\n",
      "4  0.222876\n",
      "            close\n",
      "count  251.000000\n",
      "mean     0.600508\n",
      "std      0.259740\n",
      "min      0.000000\n",
      "25%      0.390732\n",
      "50%      0.671707\n",
      "75%      0.783074\n",
      "max      1.000000\n"
     ]
    }
   ],
   "source": [
    "print(df2.head())\n",
    "print(df2.describe())"
   ]
  },
  {
   "cell_type": "code",
   "execution_count": 16,
   "metadata": {},
   "outputs": [
    {
     "name": "stdout",
     "output_type": "stream",
     "text": [
      "Length of %90 of Dataset is  226  Therefore, the test data length is  25\n"
     ]
    }
   ],
   "source": [
    "# Finding a Length of %90 from the number of rows to Create a train Dataset (using array)\n",
    "new_dataset_length = int(np.ceil( len(df.filter(['close']).values) * .9 )) \n",
    "print('Length of %90 of Dataset is ',new_dataset_length, ' Therefore, the test data length is ',len(df.close) - new_dataset_length)"
   ]
  },
  {
   "cell_type": "code",
   "execution_count": 17,
   "metadata": {},
   "outputs": [
    {
     "name": "stdout",
     "output_type": "stream",
     "text": [
      "[array([0.32605349, 0.31905363, 0.30253406, 0.25045509, 0.22287562,\n",
      "       0.24681502, 0.2399553 , 0.27257467, 0.28629434, 0.25465505,\n",
      "       0.16071683, 0.13285731, 0.10289792, 0.10191805, 0.14601708,\n",
      "       0.10093797, 0.09575814, 0.07013863, 0.01427977, 0.06425877])]\n",
      "[0.06873856939293721]\n",
      "\n",
      "[array([0.32605349, 0.31905363, 0.30253406, 0.25045509, 0.22287562,\n",
      "       0.24681502, 0.2399553 , 0.27257467, 0.28629434, 0.25465505,\n",
      "       0.16071683, 0.13285731, 0.10289792, 0.10191805, 0.14601708,\n",
      "       0.10093797, 0.09575814, 0.07013863, 0.01427977, 0.06425877]), array([0.31905363, 0.30253406, 0.25045509, 0.22287562, 0.24681502,\n",
      "       0.2399553 , 0.27257467, 0.28629434, 0.25465505, 0.16071683,\n",
      "       0.13285731, 0.10289792, 0.10191805, 0.14601708, 0.10093797,\n",
      "       0.09575814, 0.07013863, 0.01427977, 0.06425877, 0.06873857])]\n",
      "[0.06873856939293721, 0.0007000287210441325]\n",
      "\n"
     ]
    }
   ],
   "source": [
    "# Create the training data set with 20 time steps \n",
    "# finding the best time step from MA that 20 was the most optimal\n",
    "\n",
    "train = scaled[0:int(new_dataset_length), :]\n",
    "\n",
    "time_step = 20\n",
    "\n",
    "X_train = []\n",
    "y_train = []\n",
    "\n",
    "for i in range(time_step, len(train)):\n",
    "    X_train.append(train[i-time_step:i, 0])\n",
    "    y_train.append(train[i, 0])\n",
    "    if i<= (time_step+1):\n",
    "        print(X_train)\n",
    "        print(y_train)\n",
    "        print()"
   ]
  },
  {
   "cell_type": "code",
   "execution_count": 25,
   "metadata": {},
   "outputs": [],
   "source": [
    "class MovingAverageTimeSeriesDataset(Dataset):\n",
    "    def __init__(self, data, sequence_length, moving_average_size):\n",
    "        self.data = data\n",
    "        self.sequence_length = sequence_length\n",
    "        self.moving_average_size = moving_average_size\n",
    "\n",
    "    def __len__(self):\n",
    "        return len(self.data) - self.sequence_length - self.moving_average_size + 1\n",
    "\n",
    "    def __getitem__(self, index):\n",
    "        sequence_end_idx = index + self.sequence_length\n",
    "        moving_average_end_idx = sequence_end_idx + self.moving_average_size\n",
    "        sequence = self.data[index:sequence_end_idx]\n",
    "        \n",
    "        # Compute the moving average\n",
    "        moving_average = torch.mean(self.data[sequence_end_idx:moving_average_end_idx])\n",
    "        return sequence, moving_average"
   ]
  },
  {
   "cell_type": "code",
   "execution_count": 29,
   "metadata": {},
   "outputs": [],
   "source": [
    "df_tensor = torch.tensor(df['close'], dtype=torch.float32)"
   ]
  },
  {
   "cell_type": "code",
   "execution_count": 26,
   "metadata": {},
   "outputs": [],
   "source": [
    "sequence_length = 20 \n",
    "moving_average_size = 20"
   ]
  },
  {
   "cell_type": "code",
   "execution_count": 30,
   "metadata": {},
   "outputs": [
    {
     "name": "stdout",
     "output_type": "stream",
     "text": [
      "torch.Size([32, 20]) torch.Size([32])\n",
      "torch.Size([32, 20]) torch.Size([32])\n",
      "torch.Size([32, 20]) torch.Size([32])\n",
      "torch.Size([32, 20]) torch.Size([32])\n",
      "torch.Size([32, 20]) torch.Size([32])\n",
      "torch.Size([32, 20]) torch.Size([32])\n",
      "torch.Size([20, 20]) torch.Size([20])\n"
     ]
    }
   ],
   "source": [
    "dataset = MovingAverageTimeSeriesDataset(df_tensor, sequence_length, moving_average_size)\n",
    "dataloader = DataLoader(dataset, batch_size=32, shuffle=False)\n",
    "for sequence, target in dataloader:\n",
    "    print(sequence.shape, target.shape)"
   ]
  },
  {
   "cell_type": "code",
   "execution_count": 33,
   "metadata": {},
   "outputs": [
    {
     "data": {
      "text/plain": [
       "212"
      ]
     },
     "execution_count": 33,
     "metadata": {},
     "output_type": "execute_result"
    }
   ],
   "source": [
    "len(dataset)"
   ]
  },
  {
   "cell_type": "code",
   "execution_count": 55,
   "metadata": {},
   "outputs": [],
   "source": [
    "dataset = df['close']"
   ]
  },
  {
   "cell_type": "code",
   "execution_count": 56,
   "metadata": {},
   "outputs": [],
   "source": [
    "train_size = int(0.9 * len(dataset))\n",
    "test_size = len(dataset) - train_size"
   ]
  },
  {
   "cell_type": "code",
   "execution_count": 59,
   "metadata": {},
   "outputs": [],
   "source": [
    "train_dataset, test_dataset = torch.utils.data.random_split(dataset, [train_size, test_size])\n",
    "train_loader = DataLoader(train_dataset, batch_size=32, shuffle=False)\n",
    "test_loader = DataLoader(test_dataset, batch_size=32, shuffle=False)"
   ]
  },
  {
   "cell_type": "code",
   "execution_count": 20,
   "metadata": {},
   "outputs": [],
   "source": [
    "\n",
    "class TimeSeriesTransformer(nn.Module):\n",
    "    def __init__(self, num_features, num_layers, num_heads, dropout):\n",
    "        super(TimeSeriesTransformer, self).__init__()\n",
    "        self.encoder_layer = nn.TransformerEncoderLayer(\n",
    "            d_model=num_features, nhead=num_heads, dropout=dropout\n",
    "        )\n",
    "        self.transformer_encoder = nn.TransformerEncoder(\n",
    "            self.encoder_layer, num_layers=num_layers\n",
    "        )\n",
    "        self.positional_encoding = self._generate_positional_encoding(num_features)\n",
    "        self.output_layer = nn.Linear(num_features, 1)\n",
    "\n",
    "    def _generate_positional_encoding(self, num_features):\n",
    "        # Generate positional encodings here\n",
    "        pass\n",
    "\n",
    "    def forward(self, src):\n",
    "        src += self.positional_encoding[:src.size(0), :]\n",
    "        output = self.transformer_encoder(src)\n",
    "        output = self.output_layer(output)\n",
    "        return output"
   ]
  },
  {
   "cell_type": "code",
   "execution_count": 42,
   "metadata": {},
   "outputs": [],
   "source": [
    "# Parameters\n",
    "num_features = 10  # Number of input features\n",
    "num_layers = 4     # Number of Transformer layers\n",
    "num_heads = 2      # Number of heads in the multi-head attention mechanism\n",
    "dropout = 0.1      # Dropout rate\n",
    "num_epochs = 10"
   ]
  },
  {
   "cell_type": "code",
   "execution_count": 43,
   "metadata": {},
   "outputs": [],
   "source": [
    "model = TimeSeriesTransformer(num_features, num_layers, num_heads, dropout)"
   ]
  },
  {
   "cell_type": "code",
   "execution_count": 44,
   "metadata": {},
   "outputs": [],
   "source": [
    "# Loss function and optimizer\n",
    "criterion = nn.MSELoss()\n",
    "optimizer = optim.Adam(model.parameters())"
   ]
  },
  {
   "cell_type": "code",
   "execution_count": 60,
   "metadata": {},
   "outputs": [
    {
     "ename": "ValueError",
     "evalue": "too many values to unpack (expected 2)",
     "output_type": "error",
     "traceback": [
      "\u001b[1;31m---------------------------------------------------------------------------\u001b[0m",
      "\u001b[1;31mValueError\u001b[0m                                Traceback (most recent call last)",
      "Cell \u001b[1;32mIn[60], line 5\u001b[0m\n\u001b[0;32m      3\u001b[0m \u001b[38;5;28;01mfor\u001b[39;00m batch \u001b[38;5;129;01min\u001b[39;00m train_loader:\n\u001b[0;32m      4\u001b[0m     optimizer\u001b[38;5;241m.\u001b[39mzero_grad()\n\u001b[1;32m----> 5\u001b[0m     input_seq, target_seq \u001b[38;5;241m=\u001b[39m batch\n\u001b[0;32m      6\u001b[0m     output \u001b[38;5;241m=\u001b[39m model(input_seq)\n\u001b[0;32m      7\u001b[0m     loss \u001b[38;5;241m=\u001b[39m criterion(output, target_seq)\n",
      "\u001b[1;31mValueError\u001b[0m: too many values to unpack (expected 2)"
     ]
    }
   ],
   "source": [
    "for epoch in range(num_epochs):\n",
    "    model.train()\n",
    "    for batch in train_loader:\n",
    "        optimizer.zero_grad()\n",
    "        input_seq, target_seq = batch\n",
    "        output = model(input_seq)\n",
    "        loss = criterion(output, target_seq)\n",
    "        loss.backward()\n",
    "        optimizer.step()"
   ]
  },
  {
   "cell_type": "code",
   "execution_count": 53,
   "metadata": {},
   "outputs": [
    {
     "data": {
      "text/plain": [
       "1"
      ]
     },
     "execution_count": 53,
     "metadata": {},
     "output_type": "execute_result"
    }
   ],
   "source": []
  },
  {
   "cell_type": "code",
   "execution_count": 48,
   "metadata": {},
   "outputs": [],
   "source": [
    "for batch in train_loader:\n",
    "    input_seq, target_seq = batch\n",
    "    a = input_seq"
   ]
  },
  {
   "cell_type": "code",
   "execution_count": 54,
   "metadata": {},
   "outputs": [
    {
     "data": {
      "text/plain": [
       "'torch.FloatTensor'"
      ]
     },
     "execution_count": 54,
     "metadata": {},
     "output_type": "execute_result"
    }
   ],
   "source": [
    "a.type()"
   ]
  },
  {
   "cell_type": "code",
   "execution_count": null,
   "metadata": {},
   "outputs": [],
   "source": []
  }
 ],
 "metadata": {
  "kernelspec": {
   "display_name": ".venv",
   "language": "python",
   "name": "python3"
  },
  "language_info": {
   "codemirror_mode": {
    "name": "ipython",
    "version": 3
   },
   "file_extension": ".py",
   "mimetype": "text/x-python",
   "name": "python",
   "nbconvert_exporter": "python",
   "pygments_lexer": "ipython3",
   "version": "3.10.7"
  }
 },
 "nbformat": 4,
 "nbformat_minor": 2
}
